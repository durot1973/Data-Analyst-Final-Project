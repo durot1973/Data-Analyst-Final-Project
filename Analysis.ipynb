{
 "cells": [
  {
   "cell_type": "markdown",
   "metadata": {},
   "source": [
    "# __This is my data analysis final project we are analysing data from the NICS system about the number of checks going back up to 1998.__\n",
    "\n",
    "__We would check how:__\n",
    "\n",
    "__1. How an increase in the population from 2010 to 2016 correlated to an increase in permit checks__\n",
    "\n",
    "__2. Do states with more veterans tend to have higher gun checks?__ \n",
    "\n",
    "__3. How does higher sales and higher per capita income correlate with the number of gun checks__\n",
    "\n",
    "__4. What of where there are a higher number of companies, because that means more people would be employed.__\n",
    "\n",
    "\n",
    "__We begin by importing the necessary modules,\n",
    "numpy and pandas for calulations and matplotlib and seaborn for the visulisations.__"
   ]
  },
  {
   "cell_type": "code",
   "execution_count": 1,
   "metadata": {},
   "outputs": [],
   "source": [
    "import numpy as np\n",
    "import pandas as pd\n",
    "import matplotlib.pyplot as plt\n",
    "import seaborn as sns\n",
    "import datetime as dt\n",
    "%matplotlib inline"
   ]
  },
  {
   "cell_type": "markdown",
   "metadata": {},
   "source": [
    "\n",
    "Next we import the data using pandas and edit it into a useable format removing unnecesary columms, this is the data wrangling phrase."
   ]
  },
  {
   "cell_type": "code",
   "execution_count": 2,
   "metadata": {},
   "outputs": [],
   "source": [
    "gun_data = pd.read_excel('gun_data.xlsx')\n",
    "census_data = pd.read_csv('U.S. Census Data.csv')\n",
    "\n",
    "# remove the 'Fact Note' column and the descreptive data.\n",
    "census_data.drop('Fact Note', inplace=True, axis=1)\n",
    "census_data.drop(census_data.index[65:], inplace=True, axis=0)\n",
    "\n",
    "# Set each month as the index of gun_data.\n",
    "gun_data.set_index(['month', 'state'], inplace=True)\n",
    "\n",
    "# And the  name of each fact like the population as the index of census_data.\n",
    "census_data.set_index('Fact', inplace=True)\n",
    "\n",
    "# We then refrence the index of the census_data in a variable to make it easy to get them.\n",
    "index_of_census = census_data.index\n",
    "\n",
    "# We use cenus_data to get all the us states.\n",
    "states = census_data.columns"
   ]
  },
  {
   "cell_type": "markdown",
   "metadata": {},
   "source": [
    "We then put the number of checks each year in a Pandas Dataframe and drop year 2017 because the data is incomplete for that year."
   ]
  },
  {
   "cell_type": "code",
   "execution_count": 3,
   "metadata": {},
   "outputs": [],
   "source": [
    "months=['2017-09', '2017-08', '2017-07', '2017-06', '2017-05', '2017-04', '2017-03', '2017-02', '2017-01', '2016-12',\n",
    "        '2016-11', '2016-10', '2016-09', '2016-08', '2016-07', '2016-06', '2016-05', '2016-04', '2016-03', '2016-02',\n",
    "        '2016-01', '2015-12', '2015-11', '2015-10', '2015-09', '2015-08', '2015-07', '2015-06', '2015-05', '2015-04',\n",
    "        '2015-03', '2015-02', '2015-01', '2014-12', '2014-11', '2014-10', '2014-09', '2014-08', '2014-07', '2014-06',\n",
    "        '2014-05', '2014-04', '2014-03', '2014-02', '2014-01', '2013-12', '2013-11', '2013-10', '2013-09', '2013-08',\n",
    "        '2013-07', '2013-06', '2013-05', '2013-04', '2013-03', '2013-02', '2013-01', '2012-12', '2012-11', '2012-10',\n",
    "        '2012-09', '2012-08', '2012-07', '2012-06', '2012-05', '2012-04', '2012-03', '2012-02', '2012-01', '2011-12',\n",
    "        '2011-11','2011-10', '2011-09', '2011-08', '2011-07', '2011-06', '2011-05', '2011-04', '2011-03', '2011-02',\n",
    "        '2011-01', '2010-12', '2010-11', '2010-10', '2010-09', '2010-08', '2010-07', '2010-06', '2010-05', '2010-04',\n",
    "        '2010-03', '2010-02', '2010-01', '2009-12', '2009-11', '2009-10', '2009-09', '2009-08', '2009-07', '2009-06',\n",
    "        '2009-05', '2009-04', '2009-03', '2009-02', '2009-01', '2008-12', '2008-11', '2008-10', '2008-09', '2008-08',\n",
    "        '2008-07', '2008-06', '2008-05', '2008-04', '2008-03', '2008-02', '2008-01', '2007-12', '2007-11', '2007-10',\n",
    "        '2007-09', '2007-08', '2007-07', '2007-06', '2007-05', '2007-04', '2007-03', '2007-02', '2007-01', '2006-12',\n",
    "        '2006-11', '2006-10', '2006-09', '2006-08', '2006-07', '2006-06', '2006-05', '2006-04', '2006-03', '2006-02',\n",
    "        '2006-01', '2005-12', '2005-11', '2005-10', '2005-09', '2005-08', '2005-07', '2005-06', '2005-05', '2005-04',\n",
    "        '2005-03', '2005-02', '2005-01', '2004-12', '2004-11', '2004-10', '2004-09', '2004-08', '2004-07', '2004-06',\n",
    "        '2004-05', '2004-04', '2004-03', '2004-02', '2004-01', '2003-12', '2003-11', '2003-10', '2003-09', '2003-08',\n",
    "        '2003-07', '2003-06', '2003-05', '2003-04', '2003-03', '2003-02', '2003-01', '2002-12', '2002-11', '2002-10',\n",
    "        '2002-09', '2002-08', '2002-07', '2002-06', '2002-05', '2002-04', '2002-03', '2002-02', '2002-01', '2001-12',\n",
    "        '2001-11', '2001-10', '2001-09', '2001-08', '2001-07', '2001-06', '2001-05', '2001-04', '2001-03', '2001-02',\n",
    "        '2001-01', '2000-12', '2000-11', '2000-10', '2000-09', '2000-08', '2000-07', '2000-06', '2000-05', '2000-04',\n",
    "        '2000-03', '2000-02', '2000-01', '1999-12', '1999-11', '1999-10', '1999-09', '1999-08', '1999-07', '1999-06',\n",
    "        '1999-05', '1999-04', '1999-03', '1999-02', '1999-01', '1998-12', '1998-11']\n",
    "\n",
    "years = ['2017', '2016', '2015', '2014', '2013', '2012', '2011', '2010', '2009', '2008', '2007', '2006', '2005',\n",
    "         '2004', '2003', '2002', '2001', '2000', '1999', '1998']\n",
    "\n",
    "def total_in_year(year):\n",
    "    '''gets the total number of checks each year'''\n",
    "    total = 0\n",
    "    for month in months:\n",
    "        if str(year) in month:\n",
    "            df_for_month = gun_data.loc[month]['totals']\n",
    "            total += df_for_month\n",
    "    return total\n",
    "\n",
    "def create_year_df():\n",
    "    '''creates a dataframe tor the total number of checks each year'''\n",
    "    df = {}\n",
    "    for year in years:\n",
    "        df[year] = total_in_year(year)\n",
    "    return pd.DataFrame(df)\n",
    "\n",
    "checks_each_year = create_year_df()\n",
    "\n",
    "checks_each_year.drop('2017', inplace=True, axis=1)\n",
    "\n",
    "# We also need to remove states that are not in both datasets\n",
    "for index in checks_each_year.index:\n",
    "    if index not in census_data.columns:\n",
    "        checks_each_year = checks_each_year.drop(index, axis=0)"
   ]
  },
  {
   "cell_type": "markdown",
   "metadata": {},
   "source": [
    "__We start by answering the first question,__\n",
    "1. How an increase in the population from 2010 to 2016 correlated to an increase in permit checks\n",
    "\n",
    "We first of all get the percentage change in population from year 2010 to 2016 and the percentage change in gun checks from year 2010 to 2016 and then combine that into a dataframe"
   ]
  },
  {
   "cell_type": "code",
   "execution_count": 4,
   "metadata": {
    "scrolled": true
   },
   "outputs": [],
   "source": [
    "# convert population change to number values\n",
    "\n",
    "ppl_change = census_data.loc['Population, percent change - April 1, 2010 (estimates base) to July 1, 2016,  (V2016)']\n",
    "\n",
    "def change_to_float(series):\n",
    "    '''fuctions for Pandas series of Data with percent values that converts them to floats and removes the % sign'''\n",
    "    for to_change in series:\n",
    "        if '%' not in to_change:\n",
    "            percent_value = float(to_change) *100 # Since the values are strings, we need to convert them to floats.\n",
    "            series.replace(to_replace=to_change, value=percent_value, inplace=True)\n",
    "        else:\n",
    "            percent = to_change.strip('%')\n",
    "            percent_value = float(percent)\n",
    "            series.replace(to_replace=to_change, value=percent_value, inplace=True)\n",
    "\n",
    "change_to_float(ppl_change)"
   ]
  },
  {
   "cell_type": "code",
   "execution_count": 5,
   "metadata": {
    "scrolled": false
   },
   "outputs": [
    {
     "data": {
      "text/plain": [
       "<matplotlib.collections.PathCollection at 0x7f7942ee00f0>"
      ]
     },
     "execution_count": 5,
     "metadata": {},
     "output_type": "execute_result"
    },
    {
     "data": {
      "image/png": "[encoded data removed]",
      "text/plain": [
       "<matplotlib.figure.Figure at 0x7f796d309198>"
      ]
     },
     "metadata": {},
     "output_type": "display_data"
    }
   ],
   "source": [
    "increase_in_checks = ((checks_each_year['2016'] - checks_each_year['2010'])/checks_each_year['2016']) *100\n",
    "increase_in_checks.rename('Percentage incease in gun checks from 2010 to 2016', inplace=True)\n",
    "\n",
    "percentage_changes = pd.concat([ppl_change, increase_in_checks], axis=1, join='inner')\n",
    "\n",
    "def standardize(series):\n",
    "    '''function to standardize a series'''\n",
    "    return (series-series.mean())/series.std(ddof=0)\n",
    "\n",
    "percentage_changes = percentage_changes.apply(standardize, axis = 0)\n",
    "\n",
    "plt.figure(); plot = plt.scatter(percentage_changes.iloc[:,0], percentage_changes.iloc[:,1])\n",
    "plt.xlabel('Increase in Population')\n",
    "plt.ylabel('Increase in Gun Checks')\n",
    "plot"
   ]
  },
  {
   "cell_type": "markdown",
   "metadata": {},
   "source": [
    "This shows that there is no correlation between the increase in population and the increase in gun checks."
   ]
  },
  {
   "cell_type": "markdown",
   "metadata": {},
   "source": [
    "__Moving on to the next number 2__\n",
    "\n",
    "Do states with more veterans tend to have higher gun checks?\n",
    "\n",
    "We begin by ensuring that the number of veterans are integers then we compare their numbers with that for each state"
   ]
  },
  {
   "cell_type": "code",
   "execution_count": 6,
   "metadata": {},
   "outputs": [
    {
     "name": "stdout",
     "output_type": "stream",
     "text": [
      "The correlation between the number of veterans and the total number of checks is  0.63391756725\n"
     ]
    },
    {
     "data": {
      "text/plain": [
       "<matplotlib.collections.PathCollection at 0x7f7941e4df98>"
      ]
     },
     "execution_count": 6,
     "metadata": {},
     "output_type": "execute_result"
    },
    {
     "data": {
      "image/png": "[encoded data removed]",
      "text/plain": [
       "<matplotlib.figure.Figure at 0x7f7941e6f588>"
      ]
     },
     "metadata": {},
     "output_type": "display_data"
    }
   ],
   "source": [
    "def change_vet_to_float(to_change):\n",
    "    '''convert number strings with commas in a pandas series to usable numbers'''\n",
    "    if type(to_change) == str:\n",
    "        number = ''\n",
    "        for integer in to_change:\n",
    "            if integer != ',':\n",
    "                number += integer\n",
    "        return int(number)\n",
    "    return to_change\n",
    "\n",
    "\n",
    "veterans = census_data.loc['Veterans, 2011-2015']\n",
    "veterans = veterans.apply(change_vet_to_float)\n",
    "\n",
    "# Total number of checks from 2011 to 2015\n",
    "total_checks_2011_2015 = checks_each_year.iloc[:, -6:-1].applymap(change_vet_to_float).sum(axis = 1)\n",
    "\n",
    "veterans = standardize(veterans)\n",
    "total_checks = standardize(total_checks_2011_2015)\n",
    "total_checks.rename('Total Checks from 2011 - 2015', inplace=True)\n",
    "\n",
    "vets_and_checks = pd.concat([veterans, total_checks], axis=1, join='inner')\n",
    "\n",
    "print('The correlation between the number of veterans and the total number of checks is ', veterans.corr(total_checks))\n",
    "\n",
    "plt.figure(); plot = plt.scatter(vets_and_checks.iloc[:,0], vets_and_checks.iloc[:,1])\n",
    "plt.xlabel('Veterans')\n",
    "plt.ylabel('Increase in Gun Checks(2011-2015)')\n",
    "plot"
   ]
  },
  {
   "cell_type": "markdown",
   "metadata": {},
   "source": [
    "This shows that there is a positive correlation between the number of veterans in a state and the number of gun checks in\n",
    "that state, i.e the more the veterans the more the states."
   ]
  },
  {
   "cell_type": "markdown",
   "metadata": {},
   "source": [
    "__Moving on to the next number 3__\n",
    "\n",
    "How does higher sales and higher per capita income correlate with the number of gun checks?"
   ]
  },
  {
   "cell_type": "markdown",
   "metadata": {},
   "source": [
    "__Moving on to the next number 4__\n",
    "\n",
    "What of where there are a higher number of companies, because that means more people would be employed."
   ]
  }
 ],
 "metadata": {
  "kernelspec": {
   "display_name": "Python 3",
   "language": "python",
   "name": "python3"
  },
  "language_info": {
   "codemirror_mode": {
    "name": "ipython",
    "version": 3
   },
   "file_extension": ".py",
   "mimetype": "text/x-python",
   "name": "python",
   "nbconvert_exporter": "python",
   "pygments_lexer": "ipython3",
   "version": "3.6.4"
  }
 },
 "nbformat": 4,
 "nbformat_minor": 2
}
